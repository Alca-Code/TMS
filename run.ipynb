{
 "cells": [
  {
   "cell_type": "code",
   "execution_count": 1,
   "metadata": {},
   "outputs": [
    {
     "name": "stdout",
     "output_type": "stream",
     "text": [
      "Collecting aiogram\n",
      "  Downloading aiogram-2.18-py3-none-any.whl (187 kB)\n",
      "Collecting aiohttp<3.9.0,>=3.8.0\n",
      "  Downloading aiohttp-3.8.1-cp310-cp310-win_amd64.whl (555 kB)\n",
      "Collecting Babel<2.10.0,>=2.9.1\n",
      "  Using cached Babel-2.9.1-py2.py3-none-any.whl (8.8 MB)\n",
      "Requirement already satisfied: certifi>=2021.10.8 in c:\\users\\tanka\\appdata\\local\\programs\\python\\python310\\lib\\site-packages (from aiogram) (2021.10.8)\n",
      "Collecting async-timeout<5.0,>=4.0.0a3\n",
      "  Using cached async_timeout-4.0.2-py3-none-any.whl (5.8 kB)\n",
      "Requirement already satisfied: attrs>=17.3.0 in c:\\users\\tanka\\appdata\\local\\programs\\python\\python310\\lib\\site-packages (from aiohttp<3.9.0,>=3.8.0->aiogram) (21.4.0)\n",
      "Requirement already satisfied: charset-normalizer<3.0,>=2.0 in c:\\users\\tanka\\appdata\\local\\programs\\python\\python310\\lib\\site-packages (from aiohttp<3.9.0,>=3.8.0->aiogram) (2.0.9)\n",
      "Collecting frozenlist>=1.1.1\n",
      "  Downloading frozenlist-1.3.0-cp310-cp310-win_amd64.whl (33 kB)\n",
      "Collecting aiosignal>=1.1.2\n",
      "  Using cached aiosignal-1.2.0-py3-none-any.whl (8.2 kB)\n",
      "Collecting yarl<2.0,>=1.0\n",
      "  Downloading yarl-1.7.2-cp310-cp310-win_amd64.whl (122 kB)\n",
      "Collecting multidict<7.0,>=4.5\n",
      "  Downloading multidict-5.2.0-cp310-cp310-win_amd64.whl (45 kB)\n",
      "Collecting pytz>=2015.7\n",
      "  Using cached pytz-2021.3-py2.py3-none-any.whl (503 kB)\n",
      "Requirement already satisfied: idna>=2.0 in c:\\users\\tanka\\appdata\\local\\programs\\python\\python310\\lib\\site-packages (from yarl<2.0,>=1.0->aiohttp<3.9.0,>=3.8.0->aiogram) (3.3)\n",
      "Installing collected packages: multidict, frozenlist, yarl, pytz, async-timeout, aiosignal, Babel, aiohttp, aiogram\n",
      "Successfully installed Babel-2.9.1 aiogram-2.18 aiohttp-3.8.1 aiosignal-1.2.0 async-timeout-4.0.2 frozenlist-1.3.0 multidict-5.2.0 pytz-2021.3 yarl-1.7.2\n",
      "Note: you may need to restart the kernel to use updated packages.\n"
     ]
    },
    {
     "name": "stderr",
     "output_type": "stream",
     "text": [
      "  WARNING: The script pybabel.exe is installed in 'C:\\Users\\tanka\\AppData\\Local\\Programs\\Python\\Python310\\Scripts' which is not on PATH.\n",
      "  Consider adding this directory to PATH or, if you prefer to suppress this warning, use --no-warn-script-location.\n"
     ]
    }
   ],
   "source": [
    "%pip install -U aiogram"
   ]
  },
  {
   "cell_type": "code",
   "execution_count": null,
   "metadata": {},
   "outputs": [],
   "source": []
  }
 ],
 "metadata": {
  "interpreter": {
   "hash": "4b06460839c9f8abac65a7770fec91e6ccaab432d5571851b2a4c783378bbf80"
  },
  "kernelspec": {
   "display_name": "Python 3.10.2 64-bit",
   "language": "python",
   "name": "python3"
  },
  "language_info": {
   "codemirror_mode": {
    "name": "ipython",
    "version": 3
   },
   "file_extension": ".py",
   "mimetype": "text/x-python",
   "name": "python",
   "nbconvert_exporter": "python",
   "pygments_lexer": "ipython3",
   "version": "3.10.2"
  },
  "orig_nbformat": 4
 },
 "nbformat": 4,
 "nbformat_minor": 2
}
